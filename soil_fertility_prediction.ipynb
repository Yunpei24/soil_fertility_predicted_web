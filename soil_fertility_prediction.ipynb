{
  "nbformat": 4,
  "nbformat_minor": 0,
  "metadata": {
    "colab": {
      "private_outputs": true,
      "provenance": []
    },
    "kernelspec": {
      "name": "python3",
      "display_name": "Python 3"
    },
    "language_info": {
      "name": "python"
    }
  },
  "cells": [
    {
      "cell_type": "markdown",
      "source": [
        "**Input**\n",
        "\n",
        "* `N` - ratio of Nitrogen (NH4+) content in soil\n",
        "* `P` - ratio of Phosphorous (P) content in soil\n",
        "* `K` - ratio of Potassium (K) content in soil\n",
        "* `ph` - soil acidity (pH)\n",
        "* `ec` - electrical conductivity\n",
        "* `oc` - organic carbon\n",
        "* `S` - sulfur (S)\n",
        "* `zn` - Zinc (Zn)\n",
        "* `fe` - Iron (Fe)\n",
        "* `cu` - Copper (Cu)\n",
        "* `Mn` - Manganese (Mn)\n",
        "* `B` - Boron (B)\n",
        "\n",
        "**Output**\n",
        "\n",
        "* Class fertility (0 \"Less Fertile\", 1 \"Fertile\", 2 \"Highly Fertile\")"
      ],
      "metadata": {
        "id": "W2kOORDnucvL"
      }
    },
    {
      "cell_type": "markdown",
      "source": [
        "## Importation des Librairies et Modules"
      ],
      "metadata": {
        "id": "k9IZSirRvcx4"
      }
    },
    {
      "cell_type": "code",
      "source": [
        "!pip install scikit-learn"
      ],
      "metadata": {
        "id": "FWn2F540G7e1"
      },
      "execution_count": null,
      "outputs": []
    },
    {
      "cell_type": "code",
      "execution_count": null,
      "metadata": {
        "id": "GDt4b8TAsg-S"
      },
      "outputs": [],
      "source": [
        "import pickle\n",
        "import numpy as np\n",
        "import pandas as pd\n",
        "import seaborn as sns\n",
        "import matplotlib.pyplot as plt\n",
        "from sklearn import tree, ensemble\n",
        "from sklearn.naive_bayes import GaussianNB\n",
        "from sklearn.svm import SVC\n",
        "from sklearn.neighbors import KNeighborsClassifier\n",
        "from sklearn.metrics import accuracy_score\n",
        "from sklearn.metrics import classification_report\n",
        "from sklearn.model_selection import train_test_split\n",
        "from sklearn.model_selection import GridSearchCV"
      ]
    },
    {
      "cell_type": "markdown",
      "source": [
        "## Chargement du jeu de données"
      ],
      "metadata": {
        "id": "xuWTK29Rwkhq"
      }
    },
    {
      "cell_type": "code",
      "source": [
        "data = pd.read_csv('/content/dataset1.csv')\n",
        "data.head()"
      ],
      "metadata": {
        "id": "CdTTwfu6wjKg"
      },
      "execution_count": null,
      "outputs": []
    },
    {
      "cell_type": "markdown",
      "source": [
        "## Exploration des données"
      ],
      "metadata": {
        "id": "9R3EUvyWw_11"
      }
    },
    {
      "cell_type": "code",
      "source": [
        "data.shape"
      ],
      "metadata": {
        "id": "UymbEx6q1AI1"
      },
      "execution_count": null,
      "outputs": []
    },
    {
      "cell_type": "code",
      "source": [
        "data.info()"
      ],
      "metadata": {
        "id": "cTr2Efr_w883"
      },
      "execution_count": null,
      "outputs": []
    },
    {
      "cell_type": "markdown",
      "source": [
        "Ce dataset à 13 colonnes composées comme suit:\n",
        "\n",
        "\n",
        "*   12 colonnes representants les caractéristiques du sol.\n",
        "*   La dernière colonne (`Output`) represente l'étiquette ie. si le sol est fertile\n",
        "\n"
      ],
      "metadata": {
        "id": "bZtIA1hQxSti"
      }
    },
    {
      "cell_type": "code",
      "source": [
        "data.describe()"
      ],
      "metadata": {
        "id": "f0HXW8mlxOay"
      },
      "execution_count": null,
      "outputs": []
    },
    {
      "cell_type": "code",
      "source": [
        "data['Output'].value_counts()"
      ],
      "metadata": {
        "id": "C5lTH3EyyTJA"
      },
      "execution_count": null,
      "outputs": []
    },
    {
      "cell_type": "markdown",
      "source": [
        "La colonne cible (`Output`) contient 3 classes:\n",
        "\n",
        "\n",
        "*   `0` : représente un sol très peu fertile\n",
        "*   `1` : représente un sol moyennement fertile\n",
        "*   `2` : représente un sol très fertile\n",
        "\n"
      ],
      "metadata": {
        "id": "NoXxUSSfy4_L"
      }
    },
    {
      "cell_type": "code",
      "source": [
        "corr = data.corr()"
      ],
      "metadata": {
        "id": "1Lacm23dy2Bk"
      },
      "execution_count": null,
      "outputs": []
    },
    {
      "cell_type": "code",
      "source": [
        "f, ax = plt.subplots(figsize=(6, 6))\n",
        "sns.heatmap(corr,\n",
        "            cmap=sns.color_palette('BuGn_r'),\n",
        "            vmin=-1.0,\n",
        "            vmax=1.0,\n",
        "            square=True,\n",
        "            ax=ax)"
      ],
      "metadata": {
        "id": "IH4_knQI0FP4"
      },
      "execution_count": null,
      "outputs": []
    },
    {
      "cell_type": "markdown",
      "source": [
        "## Traitement des données"
      ],
      "metadata": {
        "id": "AHA1hXAV1cyh"
      }
    },
    {
      "cell_type": "code",
      "source": [
        "# Renommons la colonne cible\n",
        "data.rename(columns={'Output': 'fertility'}, inplace=True)\n",
        "data.head()"
      ],
      "metadata": {
        "id": "NDTFlogx9sAG"
      },
      "execution_count": null,
      "outputs": []
    },
    {
      "cell_type": "code",
      "source": [
        "features = data.drop('fertility', axis=1)\n",
        "label = data.loc[:, 'fertility']"
      ],
      "metadata": {
        "id": "L4GRz2cl0pQO"
      },
      "execution_count": null,
      "outputs": []
    },
    {
      "cell_type": "code",
      "source": [
        "features.columns"
      ],
      "metadata": {
        "id": "Rs005y9jLpXB"
      },
      "execution_count": null,
      "outputs": []
    },
    {
      "cell_type": "code",
      "source": [
        "features.shape"
      ],
      "metadata": {
        "id": "zqPd2cIg_HvC"
      },
      "execution_count": null,
      "outputs": []
    },
    {
      "cell_type": "code",
      "source": [
        "type(features)"
      ],
      "metadata": {
        "id": "O0UPVzTSKXO_"
      },
      "execution_count": null,
      "outputs": []
    },
    {
      "cell_type": "code",
      "source": [
        "features.head()"
      ],
      "metadata": {
        "id": "BRfKCNmz-3XR"
      },
      "execution_count": null,
      "outputs": []
    },
    {
      "cell_type": "code",
      "source": [
        "print(label.shape)"
      ],
      "metadata": {
        "id": "4SppLiEN_C7R"
      },
      "execution_count": null,
      "outputs": []
    },
    {
      "cell_type": "code",
      "source": [
        "label.head()"
      ],
      "metadata": {
        "id": "vdYPqtOk_SBe"
      },
      "execution_count": null,
      "outputs": []
    },
    {
      "cell_type": "code",
      "source": [
        "features.hist(bins=50, figsize=(10, 10), color ='green', grid=False)\n",
        "plt.show()"
      ],
      "metadata": {
        "id": "mBCdjuLS_rGv"
      },
      "execution_count": null,
      "outputs": []
    },
    {
      "cell_type": "markdown",
      "source": [
        "## Préparation des données pour former le modèle de Machine Learning"
      ],
      "metadata": {
        "id": "Nt_qtDfy_8Wh"
      }
    },
    {
      "cell_type": "markdown",
      "source": [
        "Nous utilisons la transformation logarithmique pour convertir une distribution asymétrique en une distribution normale."
      ],
      "metadata": {
        "id": "7lLtNsljA-ZI"
      }
    },
    {
      "cell_type": "code",
      "source": [
        "def transform_features(features):\n",
        "    \"\"\"\n",
        "    Transforme les caractéristiques en prenant le logarithme base 10 si la caractéristique est numérique.\n",
        "\n",
        "    Args:\n",
        "    - features : DataFrame contenant les caractéristiques à transformer\n",
        "\n",
        "    Returns:\n",
        "    - transformed_features : DataFrame contenant les caractéristiques transformées\n",
        "    \"\"\"\n",
        "    def log_transform(x):\n",
        "        if np.issubdtype(x.dtype, np.number):\n",
        "            return np.log10(x)\n",
        "        else:\n",
        "            return x\n",
        "\n",
        "    transformed_features = features.apply(log_transform)\n",
        "    return transformed_features"
      ],
      "metadata": {
        "id": "eMGKUrnw_r4I"
      },
      "execution_count": null,
      "outputs": []
    },
    {
      "cell_type": "code",
      "source": [
        "featuresTransformed = transform_features(features)\n",
        "featuresTransformed.hist(bins=50, figsize=(10, 10), color='green', grid=False)\n",
        "plt.show()"
      ],
      "metadata": {
        "id": "_8epcoRZCnX5"
      },
      "execution_count": null,
      "outputs": []
    },
    {
      "cell_type": "markdown",
      "source": [
        "### Séparation des données en données d'entrainement et de validation"
      ],
      "metadata": {
        "id": "24Ie_-9ZDWOP"
      }
    },
    {
      "cell_type": "code",
      "source": [
        "trainInput, validationInput, trainTarget, validationTarget = train_test_split(featuresTransformed, label, test_size = 0.2, shuffle=True, random_state = 42)"
      ],
      "metadata": {
        "id": "VTOR41aHDadg"
      },
      "execution_count": null,
      "outputs": []
    },
    {
      "cell_type": "code",
      "source": [
        "trainInput.shape, validationInput.shape, trainTarget.shape, validationTarget.shape"
      ],
      "metadata": {
        "id": "pUrt9AorEGLI"
      },
      "execution_count": null,
      "outputs": []
    },
    {
      "cell_type": "markdown",
      "source": [
        "## Processus du choix du meilleur Modèle"
      ],
      "metadata": {
        "id": "7xX8aAjxLbUH"
      }
    },
    {
      "cell_type": "code",
      "source": [
        "trainTarget = trainTarget.values.ravel()"
      ],
      "metadata": {
        "id": "yMJs2DVGEQc0"
      },
      "execution_count": null,
      "outputs": []
    },
    {
      "cell_type": "code",
      "source": [
        "svcClf = SVC()\n",
        "svcClf.fit(trainInput, trainTarget)"
      ],
      "metadata": {
        "id": "TmdXjpbkRZzw"
      },
      "execution_count": null,
      "outputs": []
    },
    {
      "cell_type": "code",
      "source": [
        "forestClf = ensemble.RandomForestClassifier()\n",
        "forestClf.fit(trainInput, trainTarget)"
      ],
      "metadata": {
        "id": "ogDZvNbrRerh"
      },
      "execution_count": null,
      "outputs": []
    },
    {
      "cell_type": "code",
      "source": [
        "nbClf = GaussianNB()\n",
        "nbClf.fit(trainInput, trainTarget)"
      ],
      "metadata": {
        "id": "zU7BUPX8Rh6s"
      },
      "execution_count": null,
      "outputs": []
    },
    {
      "cell_type": "code",
      "source": [
        "knnClf = KNeighborsClassifier()\n",
        "knnClf.fit(trainInput, trainTarget)"
      ],
      "metadata": {
        "id": "FfURh7pSRkvp"
      },
      "execution_count": null,
      "outputs": []
    },
    {
      "cell_type": "code",
      "source": [
        "treeClf = tree.DecisionTreeClassifier()\n",
        "treeClf.fit(trainInput, trainTarget)"
      ],
      "metadata": {
        "id": "ZAKiBveKRnkq"
      },
      "execution_count": null,
      "outputs": []
    },
    {
      "cell_type": "code",
      "source": [
        "models = [svcClf, forestClf, nbClf, knnClf, treeClf]\n",
        "accs = []\n",
        "titles = []\n",
        "\n",
        "for model in models:\n",
        "    pred = model.predict((validationInput))\n",
        "    model_acc = accuracy_score(validationTarget, pred)\n",
        "    accs.append(model_acc)\n",
        "    titles.append(type(model).__name__)\n",
        "    print(type(model).__name__, \" accuarcy is \", model_acc)\n",
        "\n",
        "fig = plt.figure(figsize=(10, 5))\n",
        "sns.barplot(x = titles, y=accs)\n",
        "plt.xlabel(\"Modèles\")  # Étiquette de l'axe x\n",
        "plt.ylabel(\"Accuracies\")\n"
      ],
      "metadata": {
        "id": "pW2QC3RERp5W"
      },
      "execution_count": null,
      "outputs": []
    },
    {
      "cell_type": "markdown",
      "source": [
        "Nous constatons que le modèle RandomForest a la meilleure précision. Nous allons le maintenir et dans le suite nous allons apporter des modifications ses hyper-paramètres pour améliorer sa précision"
      ],
      "metadata": {
        "id": "2iJlnhsxWVij"
      }
    },
    {
      "cell_type": "markdown",
      "source": [
        "## Fine Tuning de notre modèle RandForest"
      ],
      "metadata": {
        "id": "ktQUCRufW-em"
      }
    },
    {
      "cell_type": "code",
      "source": [
        "forestClassifier = ensemble.RandomForestClassifier(random_state=42)"
      ],
      "metadata": {
        "id": "au3bj1a4VerL"
      },
      "execution_count": null,
      "outputs": []
    },
    {
      "cell_type": "code",
      "source": [
        "paramGrid = {\n",
        "    'n_estimators': [200, 300, 500],\n",
        "    'max_features': ['auto', 'sqrt', 'log2'],\n",
        "    'max_depth' : [4, 5, 6 ,7 ,8, 9, 10],\n",
        "    'criterion' :['gini', 'entropy']\n",
        "}"
      ],
      "metadata": {
        "id": "UlMvgegiX__t"
      },
      "execution_count": null,
      "outputs": []
    },
    {
      "cell_type": "code",
      "source": [
        "clf = GridSearchCV(\n",
        "    estimator=forestClassifier,\n",
        "    param_grid=paramGrid,\n",
        "    cv= 5\n",
        "  )\n",
        "clf.fit(trainInput, trainTarget)"
      ],
      "metadata": {
        "id": "uoEiLbwgYEGh"
      },
      "execution_count": null,
      "outputs": []
    },
    {
      "cell_type": "code",
      "source": [
        "clf.best_params_"
      ],
      "metadata": {
        "id": "hxw-hScaYXoK"
      },
      "execution_count": null,
      "outputs": []
    },
    {
      "cell_type": "markdown",
      "source": [
        "## Entrainement du modèle"
      ],
      "metadata": {
        "id": "eHlNPkkxYZDs"
      }
    },
    {
      "cell_type": "code",
      "source": [
        "randomForestModel = ensemble.RandomForestClassifier(criterion = 'gini',\n",
        " max_depth = 10,\n",
        " max_features = 'auto',\n",
        " n_estimators = 300, random_state=42)"
      ],
      "metadata": {
        "id": "UMU0QJnxYcTk"
      },
      "execution_count": null,
      "outputs": []
    },
    {
      "cell_type": "code",
      "source": [
        "randomForestModel.fit(trainInput, trainTarget)"
      ],
      "metadata": {
        "id": "RKgsdZyTYfr0"
      },
      "execution_count": null,
      "outputs": []
    },
    {
      "cell_type": "code",
      "source": [
        "predictions = randomForestModel.predict(validationInput)"
      ],
      "metadata": {
        "id": "bfsC8r7jYjUb"
      },
      "execution_count": null,
      "outputs": []
    },
    {
      "cell_type": "code",
      "source": [
        "report = classification_report(validationTarget, predictions)\n",
        "report"
      ],
      "metadata": {
        "id": "rH-OxKUZYm_c"
      },
      "execution_count": null,
      "outputs": []
    },
    {
      "cell_type": "code",
      "source": [
        "mode_acc = accuracy_score(validationTarget, predictions)\n",
        "mode_acc"
      ],
      "metadata": {
        "id": "qF1dktQMYoyh"
      },
      "execution_count": null,
      "outputs": []
    },
    {
      "cell_type": "markdown",
      "source": [
        "#### Sauvegarde du modèle au format pkl"
      ],
      "metadata": {
        "id": "zo5h4Z7jYqO5"
      }
    },
    {
      "cell_type": "code",
      "source": [
        "# with open('random_forest_pkl.pkl', 'wb') as file:\n",
        "#     pickle.dump(model, file)\n",
        "import joblib\n",
        "\n",
        "# Sauvegarder le modèle\n",
        "joblib.dump(model, 'random_forest_pkl.pkl')"
      ],
      "metadata": {
        "id": "wTw8QuO8YpvD"
      },
      "execution_count": null,
      "outputs": []
    },
    {
      "cell_type": "code",
      "source": [
        "import sklearn\n",
        "print(sklearn.__version__)"
      ],
      "metadata": {
        "id": "J2KzYwJPFdJk"
      },
      "execution_count": null,
      "outputs": []
    }
  ]
}